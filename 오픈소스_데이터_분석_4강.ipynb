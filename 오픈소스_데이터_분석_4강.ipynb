{
  "nbformat": 4,
  "nbformat_minor": 0,
  "metadata": {
    "colab": {
      "provenance": [],
      "include_colab_link": true
    },
    "kernelspec": {
      "name": "python3",
      "display_name": "Python 3"
    },
    "language_info": {
      "name": "python"
    }
  },
  "cells": [
    {
      "cell_type": "markdown",
      "metadata": {
        "id": "view-in-github",
        "colab_type": "text"
      },
      "source": [
        "<a href=\"https://colab.research.google.com/github/jihyunrue/Data-Analysis-with-Open-Source/blob/main/%EC%98%A4%ED%94%88%EC%86%8C%EC%8A%A4_%EB%8D%B0%EC%9D%B4%ED%84%B0_%EB%B6%84%EC%84%9D_4%EA%B0%95.ipynb\" target=\"_parent\"><img src=\"https://colab.research.google.com/assets/colab-badge.svg\" alt=\"Open In Colab\"/></a>"
      ]
    },
    {
      "cell_type": "markdown",
      "source": [
        "\n",
        "\n",
        "# 오픈소스 기반 데이터 분석 4강 - 데이터 수집\n"
      ],
      "metadata": {
        "id": "DkPKaAsoRq5Q"
      }
    },
    {
      "cell_type": "markdown",
      "source": [
        "## 4-1 CSV 파일 읽기"
      ],
      "metadata": {
        "id": "-I7BVVlnRrB0"
      }
    },
    {
      "cell_type": "code",
      "source": [
        "import pandas as pd\n",
        "\n",
        "## data.csv 파일 읽기\n",
        "df = pd.read_csv('data.csv', encoding='utf-8', sep=',', header=0,\n",
        "                 index_col=None, skiprows=None, nrows=None)\n",
        "print(df)"
      ],
      "metadata": {
        "id": "2Y2HEiaiRwAI",
        "colab": {
          "base_uri": "https://localhost:8080/"
        },
        "outputId": "4e891f78-3635-4899-f624-1e17e8176537"
      },
      "execution_count": null,
      "outputs": [
        {
          "output_type": "stream",
          "name": "stdout",
          "text": [
            "           날짜    체중  골격근량  체지방량\n",
            "0  2025.02.06  64.7  30.0  11.1\n",
            "1  2025.02.04  64.0  29.3  11.6\n"
          ]
        }
      ]
    },
    {
      "cell_type": "markdown",
      "source": [
        "## 4-2 JSON 파일 읽기\n",
        "\n"
      ],
      "metadata": {
        "id": "9kHCFaGlRrE0"
      }
    },
    {
      "cell_type": "code",
      "source": [
        "import json\n",
        "import pandas as pd\n",
        "\n",
        "## data.json 파일 출력\n",
        "with open('data.json', mode='r', encoding='utf-8') as f:\n",
        "    data= json.load(f)\n",
        "print(data)\n",
        "## data.json 파일 DataFrame 읽기\n",
        "df = pd.read_json('data.json', orient='records', encoding='utf-8', lines=False)\n",
        "print(df)"
      ],
      "metadata": {
        "id": "IO8bsKekR0W_",
        "colab": {
          "base_uri": "https://localhost:8080/"
        },
        "outputId": "c16b27de-2d3b-49c1-fba8-01df20fcb00f"
      },
      "execution_count": null,
      "outputs": [
        {
          "output_type": "stream",
          "name": "stdout",
          "text": [
            "{'매출데이터': [{'월': '2025-01', '매출액': 1000000, '비용': 700000, '이익': 300000}, {'월': '2025-02', '매출액': 1200000, '비용': 800000, '이익': 400000}, {'월': '2025-03', '매출액': 1500000, '비용': 900000, '이익': 600000}]}\n",
            "                                               매출데이터\n",
            "0  {'월': '2025-01', '매출액': 1000000, '비용': 700000,...\n",
            "1  {'월': '2025-02', '매출액': 1200000, '비용': 800000,...\n",
            "2  {'월': '2025-03', '매출액': 1500000, '비용': 900000,...\n"
          ]
        }
      ]
    },
    {
      "cell_type": "markdown",
      "source": [
        "## 4-3 텍스트 파일 읽기 및 데이터 추출"
      ],
      "metadata": {
        "id": "uLd_3A_IRrHG"
      }
    },
    {
      "cell_type": "code",
      "source": [
        "import re\n",
        "\n",
        "## 파일(callcenter20250301.log) 오픈 및 읽기\n",
        "with open('callcenter20250301.log', 'r', encoding='utf-8') as f:\n",
        "    content = f.read()\n",
        "## 주민등록번호 패턴 생성\n",
        "pattern = re.compile(r'(\\d{6})-(\\d{7})')\n",
        "## 주민등록번호 마스킹\n",
        "masked_content = pattern.sub(r'\\1-*******',content)\n",
        "\n",
        "## 마스킹된 파일(callcenter20250301_masked.log) 오픈 및 쓰기\n",
        "with open('callcenter20250301_maked.log', mode='w') as f:\n",
        "    f.write(masked_content)\n",
        "\n",
        "print(\"주민등록번호 마스킹 완료. 'callcenter20250301_masked.log.txt' 파일로 저장되었습니다.\")"
      ],
      "metadata": {
        "id": "60qOf7uxVdAg",
        "colab": {
          "base_uri": "https://localhost:8080/"
        },
        "outputId": "009710ee-3319-4031-d5f5-932a9399417d"
      },
      "execution_count": null,
      "outputs": [
        {
          "output_type": "stream",
          "name": "stdout",
          "text": [
            "주민등록번호 마스킹 완료. 'callcenter20250301_masked.log.txt' 파일로 저장되었습니다.\n"
          ]
        }
      ]
    },
    {
      "cell_type": "markdown",
      "source": [
        "## 4-4 Open-Meteo의 무료 날씨 API를 통한 특정 지역 온도 조회"
      ],
      "metadata": {
        "id": "eOMufu5SXiAU"
      }
    },
    {
      "cell_type": "code",
      "source": [
        "import requests\n",
        "import json\n",
        "\n",
        "url = \"https://api.open-meteo.com/v1/forecast?=&=&current=temperature_2m\"\n",
        "params = {\n",
        "    \"latitude\": \"37.58638333\",\n",
        "    \"longitude\": \"127.0203333\",\n",
        "    \"current\": \"temperature_2m\"\n",
        "}\n",
        "\n",
        "try:\n",
        "    ## URL 및 파라미터 전송\n",
        "    response = requests.get(url, params=params)\n",
        "    response.raise_for_status()\n",
        "    ## JSON 데이터 읽기\n",
        "    data = response.json()\n",
        "    print(\"API 응답:\", data)\n",
        "    print(\"서울시 종로구의 현재 온도는 : {0}{1} 입니다.\".format(data['current']['temperature_2m'], data['current_units']['temperature_2m']))\n",
        "\n",
        "except requests.exceptions.RequestException as e:\n",
        "    print(f\"API 호출 실패: {e}\")\n",
        "except json.JSONDecodeError as e:\n",
        "    print(f\"JSON 파싱 실패: {e}\")"
      ],
      "metadata": {
        "id": "JpmgdsW9V0CY",
        "colab": {
          "base_uri": "https://localhost:8080/"
        },
        "outputId": "399b22b1-ad14-4480-d4cc-b45a5c8b9d31"
      },
      "execution_count": null,
      "outputs": [
        {
          "output_type": "stream",
          "name": "stdout",
          "text": [
            "API 응답: {'latitude': 37.6, 'longitude': 127.0, 'generationtime_ms': 0.02276897430419922, 'utc_offset_seconds': 0, 'timezone': 'GMT', 'timezone_abbreviation': 'GMT', 'elevation': 29.0, 'current_units': {'time': 'iso8601', 'interval': 'seconds', 'temperature_2m': '°C'}, 'current': {'time': '2025-10-03T07:45', 'interval': 900, 'temperature_2m': 22.1}}\n",
            "서울시 종로구의 현재 온도는 : 22.1°C 입니다.\n"
          ]
        }
      ]
    },
    {
      "cell_type": "markdown",
      "source": [
        "## 4-5 Selenium과 lxml을 이용한 웹 스크래핑"
      ],
      "metadata": {
        "id": "RLfPaa1ZiqIC"
      }
    },
    {
      "cell_type": "code",
      "source": [
        "!curl -o google-chrome-stable_current_amd64.deb https://dl.google.com/linux/direct/google-chrome-stable_current_amd64.deb\n",
        "!apt install ./google-chrome-stable_current_amd64.deb -y\n",
        "!pip install selenium webdriver_manager"
      ],
      "metadata": {
        "id": "79dmM7MNk8pB",
        "colab": {
          "base_uri": "https://localhost:8080/"
        },
        "outputId": "338f1ce3-b950-45ca-a194-0511cd8cc3dd"
      },
      "execution_count": null,
      "outputs": [
        {
          "output_type": "stream",
          "name": "stdout",
          "text": [
            "  % Total    % Received % Xferd  Average Speed   Time    Time     Time  Current\n",
            "                                 Dload  Upload   Total   Spent    Left  Speed\n",
            "100  114M  100  114M    0     0   203M      0 --:--:-- --:--:-- --:--:--  203M\n",
            "Reading package lists... Done\n",
            "Building dependency tree... Done\n",
            "Reading state information... Done\n",
            "Note, selecting 'google-chrome-stable' instead of './google-chrome-stable_current_amd64.deb'\n",
            "The following additional packages will be installed:\n",
            "  libvulkan1 mesa-vulkan-drivers\n",
            "The following NEW packages will be installed:\n",
            "  google-chrome-stable libvulkan1 mesa-vulkan-drivers\n",
            "0 upgraded, 3 newly installed, 0 to remove and 38 not upgraded.\n",
            "Need to get 10.9 MB/131 MB of archives.\n",
            "After this operation, 448 MB of additional disk space will be used.\n",
            "Get:1 /content/google-chrome-stable_current_amd64.deb google-chrome-stable amd64 141.0.7390.54-1 [121 MB]\n",
            "Get:2 http://archive.ubuntu.com/ubuntu jammy/main amd64 libvulkan1 amd64 1.3.204.1-2 [128 kB]\n",
            "Get:3 http://archive.ubuntu.com/ubuntu jammy-updates/main amd64 mesa-vulkan-drivers amd64 23.2.1-1ubuntu3.1~22.04.3 [10.7 MB]\n",
            "Fetched 10.9 MB in 3s (3,651 kB/s)\n",
            "Selecting previously unselected package libvulkan1:amd64.\n",
            "(Reading database ... 126666 files and directories currently installed.)\n",
            "Preparing to unpack .../libvulkan1_1.3.204.1-2_amd64.deb ...\n",
            "Unpacking libvulkan1:amd64 (1.3.204.1-2) ...\n",
            "Selecting previously unselected package google-chrome-stable.\n",
            "Preparing to unpack .../google-chrome-stable_current_amd64.deb ...\n",
            "Unpacking google-chrome-stable (141.0.7390.54-1) ...\n",
            "Selecting previously unselected package mesa-vulkan-drivers:amd64.\n",
            "Preparing to unpack .../mesa-vulkan-drivers_23.2.1-1ubuntu3.1~22.04.3_amd64.deb ...\n",
            "Unpacking mesa-vulkan-drivers:amd64 (23.2.1-1ubuntu3.1~22.04.3) ...\n",
            "Setting up libvulkan1:amd64 (1.3.204.1-2) ...\n",
            "Setting up mesa-vulkan-drivers:amd64 (23.2.1-1ubuntu3.1~22.04.3) ...\n",
            "Setting up google-chrome-stable (141.0.7390.54-1) ...\n",
            "update-alternatives: using /usr/bin/google-chrome-stable to provide /usr/bin/x-www-browser (x-www-browser) in auto mode\n",
            "update-alternatives: using /usr/bin/google-chrome-stable to provide /usr/bin/gnome-www-browser (gnome-www-browser) in auto mode\n",
            "update-alternatives: using /usr/bin/google-chrome-stable to provide /usr/bin/google-chrome (google-chrome) in auto mode\n",
            "Processing triggers for man-db (2.10.2-1) ...\n",
            "Processing triggers for mailcap (3.70+nmu1ubuntu1) ...\n",
            "Processing triggers for libc-bin (2.35-0ubuntu3.8) ...\n",
            "/sbin/ldconfig.real: /usr/local/lib/libtcm.so.1 is not a symbolic link\n",
            "\n",
            "/sbin/ldconfig.real: /usr/local/lib/libur_loader.so.0 is not a symbolic link\n",
            "\n",
            "/sbin/ldconfig.real: /usr/local/lib/libtbbmalloc_proxy.so.2 is not a symbolic link\n",
            "\n",
            "/sbin/ldconfig.real: /usr/local/lib/libumf.so.0 is not a symbolic link\n",
            "\n",
            "/sbin/ldconfig.real: /usr/local/lib/libtbbbind_2_0.so.3 is not a symbolic link\n",
            "\n",
            "/sbin/ldconfig.real: /usr/local/lib/libhwloc.so.15 is not a symbolic link\n",
            "\n",
            "/sbin/ldconfig.real: /usr/local/lib/libtcm_debug.so.1 is not a symbolic link\n",
            "\n",
            "/sbin/ldconfig.real: /usr/local/lib/libtbb.so.12 is not a symbolic link\n",
            "\n",
            "/sbin/ldconfig.real: /usr/local/lib/libtbbbind.so.3 is not a symbolic link\n",
            "\n",
            "/sbin/ldconfig.real: /usr/local/lib/libur_adapter_opencl.so.0 is not a symbolic link\n",
            "\n",
            "/sbin/ldconfig.real: /usr/local/lib/libtbbbind_2_5.so.3 is not a symbolic link\n",
            "\n",
            "/sbin/ldconfig.real: /usr/local/lib/libur_adapter_level_zero_v2.so.0 is not a symbolic link\n",
            "\n",
            "/sbin/ldconfig.real: /usr/local/lib/libur_adapter_level_zero.so.0 is not a symbolic link\n",
            "\n",
            "/sbin/ldconfig.real: /usr/local/lib/libtbbmalloc.so.2 is not a symbolic link\n",
            "\n",
            "Collecting selenium\n",
            "  Downloading selenium-4.36.0-py3-none-any.whl.metadata (7.5 kB)\n",
            "Collecting webdriver_manager\n",
            "  Downloading webdriver_manager-4.0.2-py2.py3-none-any.whl.metadata (12 kB)\n",
            "Requirement already satisfied: urllib3<3.0,>=2.5.0 in /usr/local/lib/python3.12/dist-packages (from urllib3[socks]<3.0,>=2.5.0->selenium) (2.5.0)\n",
            "Collecting trio<1.0,>=0.30.0 (from selenium)\n",
            "  Downloading trio-0.31.0-py3-none-any.whl.metadata (8.5 kB)\n",
            "Collecting trio-websocket<1.0,>=0.12.2 (from selenium)\n",
            "  Downloading trio_websocket-0.12.2-py3-none-any.whl.metadata (5.1 kB)\n",
            "Requirement already satisfied: certifi>=2025.6.15 in /usr/local/lib/python3.12/dist-packages (from selenium) (2025.8.3)\n",
            "Requirement already satisfied: typing_extensions<5.0,>=4.14.0 in /usr/local/lib/python3.12/dist-packages (from selenium) (4.15.0)\n",
            "Requirement already satisfied: websocket-client<2.0,>=1.8.0 in /usr/local/lib/python3.12/dist-packages (from selenium) (1.8.0)\n",
            "Requirement already satisfied: requests in /usr/local/lib/python3.12/dist-packages (from webdriver_manager) (2.32.4)\n",
            "Requirement already satisfied: python-dotenv in /usr/local/lib/python3.12/dist-packages (from webdriver_manager) (1.1.1)\n",
            "Requirement already satisfied: packaging in /usr/local/lib/python3.12/dist-packages (from webdriver_manager) (25.0)\n",
            "Requirement already satisfied: attrs>=23.2.0 in /usr/local/lib/python3.12/dist-packages (from trio<1.0,>=0.30.0->selenium) (25.3.0)\n",
            "Requirement already satisfied: sortedcontainers in /usr/local/lib/python3.12/dist-packages (from trio<1.0,>=0.30.0->selenium) (2.4.0)\n",
            "Requirement already satisfied: idna in /usr/local/lib/python3.12/dist-packages (from trio<1.0,>=0.30.0->selenium) (3.10)\n",
            "Collecting outcome (from trio<1.0,>=0.30.0->selenium)\n",
            "  Downloading outcome-1.3.0.post0-py2.py3-none-any.whl.metadata (2.6 kB)\n",
            "Requirement already satisfied: sniffio>=1.3.0 in /usr/local/lib/python3.12/dist-packages (from trio<1.0,>=0.30.0->selenium) (1.3.1)\n",
            "Collecting wsproto>=0.14 (from trio-websocket<1.0,>=0.12.2->selenium)\n",
            "  Downloading wsproto-1.2.0-py3-none-any.whl.metadata (5.6 kB)\n",
            "Requirement already satisfied: pysocks!=1.5.7,<2.0,>=1.5.6 in /usr/local/lib/python3.12/dist-packages (from urllib3[socks]<3.0,>=2.5.0->selenium) (1.7.1)\n",
            "Requirement already satisfied: charset_normalizer<4,>=2 in /usr/local/lib/python3.12/dist-packages (from requests->webdriver_manager) (3.4.3)\n",
            "Requirement already satisfied: h11<1,>=0.9.0 in /usr/local/lib/python3.12/dist-packages (from wsproto>=0.14->trio-websocket<1.0,>=0.12.2->selenium) (0.16.0)\n",
            "Downloading selenium-4.36.0-py3-none-any.whl (9.6 MB)\n",
            "\u001b[2K   \u001b[90m━━━━━━━━━━━━━━━━━━━━━━━━━━━━━━━━━━━━━━━━\u001b[0m \u001b[32m9.6/9.6 MB\u001b[0m \u001b[31m76.6 MB/s\u001b[0m eta \u001b[36m0:00:00\u001b[0m\n",
            "\u001b[?25hDownloading webdriver_manager-4.0.2-py2.py3-none-any.whl (27 kB)\n",
            "Downloading trio-0.31.0-py3-none-any.whl (512 kB)\n",
            "\u001b[2K   \u001b[90m━━━━━━━━━━━━━━━━━━━━━━━━━━━━━━━━━━━━━━━━\u001b[0m \u001b[32m512.7/512.7 kB\u001b[0m \u001b[31m30.8 MB/s\u001b[0m eta \u001b[36m0:00:00\u001b[0m\n",
            "\u001b[?25hDownloading trio_websocket-0.12.2-py3-none-any.whl (21 kB)\n",
            "Downloading outcome-1.3.0.post0-py2.py3-none-any.whl (10 kB)\n",
            "Downloading wsproto-1.2.0-py3-none-any.whl (24 kB)\n",
            "Installing collected packages: wsproto, outcome, webdriver_manager, trio, trio-websocket, selenium\n",
            "Successfully installed outcome-1.3.0.post0 selenium-4.36.0 trio-0.31.0 trio-websocket-0.12.2 webdriver_manager-4.0.2 wsproto-1.2.0\n"
          ]
        }
      ]
    },
    {
      "cell_type": "code",
      "source": [
        "from selenium import webdriver\n",
        "from selenium.webdriver.chrome.service import Service as ChromeService\n",
        "from webdriver_manager.chrome import ChromeDriverManager\n",
        "from selenium.webdriver.common.by import By\n",
        "from lxml import html\n",
        "import time\n",
        "\n",
        "chrome_options = webdriver.ChromeOptions()\n",
        "chrome_options.add_argument('--headless')               # 브라우저 창 없이 실행\n",
        "chrome_options.add_argument('--no-sandbox')             # 보안모드 비활성화 (Colab 필수)\n",
        "chrome_options.add_argument('--disable-dev-shm-usage')  # 메모리 부족 방지 (Colab 필수)\n",
        "chrome_options.add_argument('--window-size=1920x1080')  # 창 크기 설정(가상)\n",
        "chrome_options.add_argument('--disable-gpu')            # GPU 가속 비활성화 (일부 환경 안정성)\n",
        "chrome_options.binary_location = \"/usr/bin/google-chrome-stable\"  # Colab용 크롬 경로 지정\n",
        "\n",
        "## 드라이버 실행\n",
        "driver = webdriver.Chrome(options=chrome_options)\n",
        "\n",
        "## 사이트 접속\n",
        "url = 'https://professor.knou.ac.kr/jaehwachung/index.do'\n",
        "driver.get(url)\n",
        "\n",
        "## 사이트 접속 대기\n",
        "time.sleep(2)\n",
        "\n",
        "## 페이지 제목 출력\n",
        "page_source = driver.page_source\n",
        "tree = html.fromstring(page_source)\n",
        "\n",
        "title_text = tree.xpath('//title/text()')\n",
        "print(title_text)\n",
        "\n",
        "## 드라이버 종료\n",
        "driver.quit()"
      ],
      "metadata": {
        "id": "cRC8x3_iW0im",
        "colab": {
          "base_uri": "https://localhost:8080/"
        },
        "outputId": "509321df-431c-41a2-c6dc-9f94d9b5d7e0"
      },
      "execution_count": null,
      "outputs": [
        {
          "output_type": "stream",
          "name": "stdout",
          "text": [
            "['\\n\\t\\tAlert \\n\\t\\t\\n\\t']\n"
          ]
        }
      ]
    },
    {
      "cell_type": "markdown",
      "source": [
        "\n",
        "# 실습 시나리오"
      ],
      "metadata": {
        "id": "Bu6OMZyGirOq"
      }
    },
    {
      "cell_type": "markdown",
      "source": [
        "## 공공데이터 포털 가입 및 데이터 신청\n",
        "\n",
        "- [https://www.data.go.kr](https://www.data.go.kr)\n",
        "- 한국환경공단 에어코리아 대기오염정보 데이터 신청"
      ],
      "metadata": {
        "id": "nsuqRN9RkZlW"
      }
    },
    {
      "cell_type": "code",
      "source": [
        "import requests\n",
        "\n",
        "## 데이터 수집 url 및 api key 설정\n",
        "url ='http://openapi.seoul.go.kr:8088/46636548766a696835374349636e68/json/energyUseDataSummaryInfo/1/5/2015/01'\n",
        "api_key = '46636548766a696835374349636e68'\n",
        "params = {\n",
        "    'serviceKey': api_key,\n",
        "    'returnType': 'json',\n",
        "    'numOfRows': '100',\n",
        "    'pageNo': '1',\n",
        "    'sidoName': '서울',\n",
        "    'ver': '1.0'\n",
        "}\n",
        "\n",
        "## 데이터 수집\n",
        "response = requests.get(url, params=params)\n",
        "## 호출 성공/실패 출력\n",
        "print(response.json())\n"
      ],
      "metadata": {
        "id": "7yCozmQeXJcO",
        "colab": {
          "base_uri": "https://localhost:8080/"
        },
        "outputId": "ee471cb9-6a7b-44f9-d23f-6254b0eb3364"
      },
      "execution_count": null,
      "outputs": [
        {
          "output_type": "stream",
          "name": "stdout",
          "text": [
            "{'energyUseDataSummaryInfo': {'list_total_count': 7, 'RESULT': {'CODE': 'INFO-000', 'MESSAGE': '정상 처리되었습니다'}, 'row': [{'YEAR': '2015', 'MON': '01', 'MM_TYPE': '개인', 'CNT': '767791', 'EUS': '193784708', 'EUS1': '194781915', 'EUS2': '204969429', 'ECO2_1': '-6090964', 'ECO2_2': '-2582568.736', 'GUS': '59133720', 'GUS1': '57163993', 'GUS2': '68297619', 'GCO2_1': '-3597086', 'GCO2_2': '-8057472.64', 'WUS': '12819757.886', 'WUS1': '12723680.426', 'WUS2': '12899476.73', 'WCO2_1': '8179.308', 'WCO2_2': '2715.530256', 'HUS': '22740838.937', 'HUS1': '23400055.303', 'HUS2': '27090493.875', 'HCO2_1': '-2504435.652', 'HCO2_2': '-33660084.213069', 'REG_DATE': '2015-06-04 17:03:55.0'}, {'YEAR': '2015', 'MON': '01', 'MM_TYPE': '학교', 'CNT': '1382', 'EUS': '134955565', 'EUS1': '128707423', 'EUS2': '145561511', 'ECO2_1': '-2178902', 'ECO2_2': '-923854.448', 'GUS': '9107197', 'GUS1': '8410968', 'GUS2': '10745416', 'GCO2_1': '-470995', 'GCO2_2': '-1055028.8', 'WUS': '2075819.2', 'WUS1': '2097433.8', 'WUS2': '2133200.8', 'WCO2_1': '-39498.1', 'WCO2_2': '-13113.3692', 'HUS': '0', 'HUS1': '0', 'HUS2': '0', 'HCO2_1': '0', 'HCO2_2': '0', 'REG_DATE': '2015-06-04 17:03:55.0'}, {'YEAR': '2015', 'MON': '01', 'MM_TYPE': '종교단체', 'CNT': '32', 'EUS': '372270', 'EUS1': '363376', 'EUS2': '411363', 'ECO2_1': '-15099.5', 'ECO2_2': '-6402.188', 'GUS': '53331', 'GUS1': '45727', 'GUS2': '63312', 'GCO2_1': '-1188.5', 'GCO2_2': '-2662.24', 'WUS': '5945', 'WUS1': '4548', 'WUS2': '4519', 'WCO2_1': '1411.5', 'WCO2_2': '468.618', 'HUS': '0', 'HUS1': '0', 'HUS2': '0', 'HCO2_1': '0', 'HCO2_2': '0', 'REG_DATE': '2015-06-04 17:03:55.0'}, {'YEAR': '2015', 'MON': '01', 'MM_TYPE': '소상공인', 'CNT': '2058', 'EUS': '10249618', 'EUS1': '9927610', 'EUS2': '11039593', 'ECO2_1': '-233983.5', 'ECO2_2': '-99209.004', 'GUS': '536119', 'GUS1': '523810', 'GUS2': '642921', 'GCO2_1': '-47246.5', 'GCO2_2': '-105832.16', 'WUS': '147273', 'WUS1': '146480.6', 'WUS2': '147325.6', 'WCO2_1': '369.9', 'WCO2_2': '122.8068', 'HUS': '0', 'HUS1': '0', 'HUS2': '0', 'HCO2_1': '0', 'HCO2_2': '0', 'REG_DATE': '2015-06-04 17:03:55.0'}, {'YEAR': '2015', 'MON': '01', 'MM_TYPE': '공동주택관리소', 'CNT': '1747', 'EUS': '327102096', 'EUS1': '329852334', 'EUS2': '351694752', 'ECO2_1': '-13671447', 'ECO2_2': '-5796693.528', 'GUS': '22834274', 'GUS1': '21141017', 'GUS2': '25338506', 'GCO2_1': '-405487.5', 'GCO2_2': '-908292', 'WUS': '12844807.5', 'WUS1': '12763070', 'WUS2': '12979835.8', 'WCO2_1': '-26645.4', 'WCO2_2': '-8846.2728', 'HUS': '0', 'HUS1': '0', 'HUS2': '0', 'HCO2_1': '0', 'HCO2_2': '0', 'REG_DATE': '2015-06-04 17:03:55.0'}]}}\n"
          ]
        }
      ]
    },
    {
      "cell_type": "markdown",
      "source": [
        "# 서울시 에코마일리지 에너지사용량 통계정보"
      ],
      "metadata": {
        "id": "JbNqYFWlhEjl"
      }
    },
    {
      "cell_type": "code",
      "source": [
        "import requests\n",
        "\n",
        "def get_year_months():\n",
        "    year_months = []\n",
        "    for year in range(2015, 2025):\n",
        "        for month in range(1, 13):\n",
        "            year_months.append(f\"{year}{month:02d}\")\n",
        "    return year_months\n",
        "\n",
        "    printed_success = False\n",
        "\n",
        "for year_month in get_year_months():\n",
        "    year = year_month[:4]\n",
        "    month = year_month[4:]\n",
        "\n",
        "    api_key = '46636548766a696835374349636e68'\n",
        "    url = f\"http://openapi.seoul.go.kr:8088/{api_key}/json/energyUseDataSummaryInfo/1/1000/{year}/{month}\"\n",
        "\n",
        "    params = {\n",
        "    'MM_TYPE': '개인'\n",
        "}\n",
        "    try:\n",
        "\n",
        "        response = requests.get(url, params=params)\n",
        "        response.raise_for_status()\n",
        "\n",
        "        data = response.json()\n",
        "        rows = data.get(\"energyUseDataSummaryInfo\", {}).get(\"row\", [])\n",
        "\n",
        "        if not printed_success:\n",
        "            print(\"API 호출 성공\\n\")\n",
        "            printed_success = True\n",
        "\n",
        "        for row in rows:\n",
        "            if row.get(\"MM_TYPE\") == \"개인\":\n",
        "                전기 = row.get(\"EUS\")\n",
        "                가스 = row.get(\"GUS\")\n",
        "                수도 = row.get(\"WUS\")\n",
        "                지역난방 = row.get(\"HUS\")\n",
        "                print(f\"{year}-{month}  전기:{전기}, 가스:{가스}, 수도:{수도}, 지역난방:{지역난방}\")\n",
        "    except requests.exceptions.RequestException as e:\n",
        "            print(f\"API 호출 실패: {e}\")\n",
        "    except json.JSONDecodeError as e:\n",
        "            print(f\"JSON 파싱 실패: {e}\")\n",
        "\n",
        "\n",
        "\n"
      ],
      "metadata": {
        "id": "eXXWLjDUgyGZ",
        "outputId": "f90bf13a-debf-4c54-ed2e-401750f3436b",
        "colab": {
          "base_uri": "https://localhost:8080/"
        }
      },
      "execution_count": 19,
      "outputs": [
        {
          "output_type": "stream",
          "name": "stdout",
          "text": [
            "API 호출 성공\n",
            "\n",
            "2015-01  전기:193784708, 가스:59133720, 수도:12819757.886, 지역난방:22740838.937\n",
            "2015-02  전기:189974230, 가스:56487358, 수도:12656888.218, 지역난방:18793320.213\n",
            "2015-03  전기:175215719, 가스:49984873, 수도:12655474.249, 지역난방:13826348.508\n",
            "2015-04  전기:183891769, 가스:37306841, 수도:12954773.246, 지역난방:5836002.885\n",
            "2015-05  전기:177289769, 가스:22060892, 수도:13086734.214, 지역난방:1320895.801\n",
            "2015-06  전기:186073153, 가스:12677645, 수도:14241651.402, 지역난방:294312.634\n",
            "2015-07  전기:165114568, 가스:8893640, 수도:12083879.038, 지역난방:702863.645\n",
            "2015-08  전기:242000479, 가스:7619018, 수도:15164553.742, 지역난방:460288.965\n",
            "2015-09  전기:207540868, 가스:6518422, 수도:14419078.727, 지역난방:305710.728\n",
            "2015-10  전기:186473958, 가스:8924018, 수도:14711828.766, 지역난방:3167520.127\n",
            "2015-11  전기:196892030, 가스:20322557, 수도:13692668.676, 지역난방:11210982.51\n",
            "2015-12  전기:203388142, 가스:40095231, 수도:13904162.958, 지역난방:21102616.717\n",
            "2016-01  전기:215330620, 가스:57641741, 수도:13218916.436, 지역난방:27186166.133\n",
            "2016-02  전기:216677664, 가스:68879796, 수도:13312113.622, 지역난방:21452994.715\n",
            "2016-03  전기:203451798, 가스:60019600, 수도:13191615.499, 지역난방:14070182.978\n",
            "2016-04  전기:202541336, 가스:40370608, 수도:13748935.736, 지역난방:4556396.936\n",
            "2016-05  전기:195448592, 가스:23077064, 수도:13762618.524, 지역난방:1166907.615\n",
            "2016-06  전기:205061790, 가스:13344932, 수도:14543461.284, 지역난방:340601.066\n",
            "2016-07  전기:226567751, 가스:9641899, 수도:14686067.972, 지역난방:89835.795\n",
            "2016-08  전기:303032015, 가스:8324791, 수도:15442898.396, 지역난방:27303.979\n",
            "2016-09  전기:241676328, 가스:7030657, 수도:15233262.266, 지역난방:2597269.386\n",
            "2016-10  전기:197827666, 가스:10129547, 수도:15173666.268, 지역난방:2142328.405\n",
            "2016-11  전기:204812090, 가스:23915383, 수도:7215169, 지역난방:10865402.481\n",
            "2016-12  전기:212192127, 가스:46917377, 수도:14415082.726, 지역난방:17554645.961\n",
            "2017-01  전기:222980440, 가스:61781772, 수도:14077034.016, 지역난방:20567265.356\n",
            "2017-02  전기:226181991, 가스:73537514, 수도:13724166.552, 지역난방:17733782.246\n",
            "2017-03  전기:208386870, 가스:64297007, 수도:13598081.92, 지역난방:11477962.549\n",
            "2017-04  전기:214202199, 가스:45050211, 수도:12690616.841, 지역난방:4466510.567\n",
            "2017-05  전기:209894672, 가스:25103152, 수도:12950202.184, 지역난방:19809726.81\n",
            "2017-06  전기:211179181, 가스:14312533, 수도:13629782.778, 지역난방:235859.209\n",
            "2017-07  전기:255974689, 가스:10085989, 수도:13786672.672, 지역난방:40992.123\n",
            "2017-08  전기:297850172, 가스:8429188, 수도:14291829.084, 지역난방:118927.011\n",
            "2017-09  전기:232360099, 가스:8981707, 수도:13842675.562, 지역난방:1279967.753\n",
            "2017-10  전기:202205893, 가스:11910453, 수도:13811362.596, 지역난방:2177857.689\n",
            "2017-11  전기:215620132, 가스:26041170, 수도:13268391.686, 지역난방:12290667.843\n",
            "2017-12  전기:228503347, 가스:59466188, 수도:13243386.284, 지역난방:21819495.238\n",
            "2018-01  전기:208518118, 가스:82250572, 수도:10997016.858, 지역난방:15268708.539\n",
            "2018-02  전기:243271752, 가스:88496947, 수도:12905042.86, 지역난방:22671708.494\n",
            "2018-03  전기:219203768, 가스:73426397, 수도:12769174.532, 지역난방:10924939.951\n",
            "2018-04  전기:222416406, 가스:42565583, 수도:13280372.714, 지역난방:5017072.364\n",
            "2018-05  전기:213539965, 가스:29234091, 수도:13181988.612, 지역난방:1375720.246\n",
            "2018-06  전기:222820943, 가스:17132065, 수도:14051336.092, 지역난방:285820.628\n",
            "2018-07  전기:269705511, 가스:11259835, 수도:14333667.052, 지역난방:25843523.832\n",
            "2018-08  전기:393315950, 가스:8166455, 수도:14956551.722, 지역난방:15855.507\n",
            "2018-09  전기:267255459, 가스:7210123, 수도:14705302.054, 지역난방:192778.954\n",
            "2018-10  전기:217274530, 가스:14102506, 수도:14728158.238, 지역난방:4137960.203\n",
            "2018-11  전기:227294230, 가스:31239511, 수도:13706690.088, 지역난방:10276290.855\n",
            "2018-12  전기:238692561, 가스:54019855, 수도:13732488.456, 지역난방:20421845.603\n",
            "2019-01  전기:253600219, 가스:80308239, 수도:13442971.1, 지역난방:21963093.848\n",
            "2019-02  전기:244927344, 가스:81902188, 수도:13495213.9, 지역난방:106134923.132\n",
            "2019-03  전기:223736787, 가스:65146586.443, 수도:13167550, 지역난방:13194262.09\n",
            "2019-04  전기:232166121, 가스:49391508, 수도:13753270.8, 지역난방:7858587.747\n",
            "2019-05  전기:221753919, 가스:31370114, 수도:13610225.3, 지역난방:1442006.927\n",
            "2019-06  전기:226119779, 가스:15771701, 수도:14223536.4, 지역난방:331690.945\n",
            "2019-07  전기:257854441, 가스:10700835, 수도:14451345.9, 지역난방:968957.161\n",
            "2019-08  전기:342924356, 가스:8884580, 수도:15115644.2, 지역난방:147683.081\n",
            "2019-09  전기:275890739, 가스:8397984, 수도:14472395.4, 지역난방:2292916.674\n",
            "2019-10  전기:228095713, 가스:11876816, 수도:14804362.3, 지역난방:2590192.143\n",
            "2019-11  전기:231283724, 가스:24835894, 수도:14123043.9, 지역난방:14983364.884\n",
            "2019-12  전기:244976724, 가스:54509050, 수도:14184785.2, 지역난방:23558262.283\n",
            "2020-01  전기:258045023, 가스:74543710, 수도:13737344.7, 지역난방:24876689.382\n",
            "2020-02  전기:254879033, 가스:76363768, 수도:14052828.8, 지역난방:20848668.612\n",
            "2020-03  전기:244369714, 가스:64367515, 수도:13841531, 지역난방:14194450.151\n",
            "2020-04  전기:247831442, 가스:48373693, 수도:14618775.2, 지역난방:8499792.566\n",
            "2020-05  전기:237473019, 가스:33564967, 수도:14679505.8, 지역난방:3702573.787\n",
            "2020-06  전기:255905483, 가스:18132779, 수도:15240275.9, 지역난방:705948.444\n",
            "2020-07  전기:267363208, 가스:10708959, 수도:15033682.8, 지역난방:21617947.477\n",
            "2020-08  전기:320723239, 가스:10177428, 수도:15600097.8, 지역난방:286814.663\n",
            "2020-09  전기:309166830, 가스:8026967, 수도:15232496.1, 지역난방:301630.266\n",
            "2020-10  전기:239397195, 가스:16322881, 수도:15641048.9, 지역난방:4581073.913\n",
            "2020-11  전기:247308528, 가스:30095679, 수도:14835013.9, 지역난방:12882737.572\n",
            "2020-12  전기:265370372, 가스:51095720, 수도:15036546.3, 지역난방:26512966.052\n",
            "2021-01  전기:287882528, 가스:80955422, 수도:14273105.8, 지역난방:31069705.783\n",
            "2021-02  전기:271224712, 가스:85581769, 수도:13679936.9, 지역난방:22238103.26\n",
            "2021-03  전기:243868926, 가스:67363697, 수도:14263783.7, 지역난방:12528828.427\n",
            "2021-04  전기:248131327, 가스:43591034, 수도:14570687.2, 지역난방:5220678.501\n",
            "2021-05  전기:241741576, 가스:24638403, 수도:14312460.916, 지역난방:2246730.037\n",
            "2021-06  전기:254958704, 가스:18898880, 수도:15174790.6, 지역난방:396903.273\n",
            "2021-07  전기:334733756, 가스:9631171, 수도:16619105.064, 지역난방:5529269.058\n",
            "2021-08  전기:409719040, 가스:10205066, 수도:15737994.8, 지역난방:127607.838\n",
            "2021-09  전기:290606638, 가스:6602872, 수도:15497783.9, 지역난방:159066.058\n",
            "2021-10  전기:253845816, 가스:13840155, 수도:15930639.8, 지역난방:4220985.501\n",
            "2021-11  전기:255516339, 가스:28571168, 수도:14975050.4, 지역난방:13463697.643\n",
            "2021-12  전기:265314948, 가스:54651317, 수도:14873728.5, 지역난방:25989752.285\n",
            "2022-01  전기:286037593, 가스:80605997, 수도:14303008.9, 지역난방:30320240.229\n",
            "2022-02  전기:279071999, 가스:90004956, 수도:14437161.1, 지역난방:27615965.122\n",
            "2022-03  전기:256771728, 가스:75577723, 수도:14181287.1, 지역난방:15843818.715\n",
            "2022-04  전기:255028242, 가스:49843915.6, 수도:14443060.3, 지역난방:5725570.382\n",
            "2022-05  전기:238866649, 가스:28185559, 수도:14344240.1, 지역난방:1457446.39\n",
            "2022-06  전기:254486733, 가스:15468022, 수도:15087457.3, 지역난방:838539.99\n",
            "2022-07  전기:336383318, 가스:10701998, 수도:14907198, 지역난방:50033.827\n",
            "2022-08  전기:382965547, 가스:8718677, 수도:15555926.8, 지역난방:3278812.728\n",
            "2022-09  전기:294121752, 가스:9220604.8, 수도:15016541.4, 지역난방:7221052.414\n",
            "2022-10  전기:250724946, 가스:13803068, 수도:14983916.7, 지역난방:5216710.607\n",
            "2022-11  전기:252081207, 가스:28471902, 수도:14485236.6, 지역난방:10685943.786\n",
            "2022-12  전기:266989892, 가스:52230601, 수도:14538742.5, 지역난방:31655489.658\n",
            "2023-01  전기:286485085, 가스:82529062, 수도:14466145, 지역난방:29668211.872\n",
            "2023-02  전기:272702468, 가스:82851936, 수도:14516011.2, 지역난방:20320092.953\n",
            "2023-03  전기:243877178, 가스:62656340, 수도:13506311.3, 지역난방:10516665.902\n",
            "2023-04  전기:247142965, 가스:38484227, 수도:13951884.7, 지역난방:4292056.162\n",
            "2023-05  전기:241448830, 가스:25601698, 수도:13928576.1, 지역난방:1354710.378\n",
            "2023-06  전기:259143276, 가스:14742811, 수도:14822130.1, 지역난방:1169879.028\n",
            "2023-07  전기:328201532, 가스:9760384, 수도:14673620.5, 지역난방:2659009.06\n",
            "2023-08  전기:407479395, 가스:8486915, 수도:15402396.8, 지역난방:530124.99\n",
            "2023-09  전기:332452167, 가스:7674573, 수도:14941654.4, 지역난방:19457189.828\n",
            "2023-10  전기:255560826, 가스:11273798, 수도:14918622.9, 지역난방:3049594.261\n",
            "2023-11  전기:255362764, 가스:23749738, 수도:14439208.8, 지역난방:13225464.736\n",
            "2023-12  전기:271015225, 가스:47560201, 수도:14519931.6, 지역난방:24169250.596\n",
            "2024-01  전기:290223476, 가스:65608930, 수도:14119336.8, 지역난방:26759601.094\n",
            "2024-02  전기:280810330, 가스:65184440, 수도:14247296.7, 지역난방:18696968.203\n",
            "2024-03  전기:259332255, 가스:58563376, 수도:13792441.8, 지역난방:13455710.256\n",
            "2024-04  전기:256332884, 가스:35786315, 수도:14330249.1, 지역난방:3099650.225\n",
            "2024-05  전기:244740675, 가스:18077028, 수도:14158142.9, 지역난방:28333197.76\n",
            "2024-06  전기:270158916, 가스:11903071, 수도:14966075.6, 지역난방:20226852.923\n",
            "2024-07  전기:340000663, 가스:8319412, 수도:14992942.2, 지역난방:2173041.617\n",
            "2024-08  전기:463971328, 가스:7072251, 수도:15873544.6, 지역난방:130082.263\n",
            "2024-09  전기:409872908, 가스:5729131, 수도:15143321.6, 지역난방:3420507.136\n",
            "2024-10  전기:282268119, 가스:8233421, 수도:15297669.9, 지역난방:2695491.396\n",
            "2024-11  전기:257927956, 가스:17418221, 수도:14678672.5, 지역난방:8836296.454\n",
            "2024-12  전기:134828126, 가스:42103424, 수도:7326853.6, 지역난방:1513199.277\n"
          ]
        }
      ]
    }
  ]
}